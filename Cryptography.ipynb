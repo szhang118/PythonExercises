{
 "cells": [
  {
   "cell_type": "code",
   "execution_count": 5,
   "metadata": {
    "collapsed": true
   },
   "outputs": [],
   "source": [
    "from string import ascii_lowercase as letters\n",
    "import string"
   ]
  },
  {
   "cell_type": "markdown",
   "metadata": {},
   "source": [
    "The Caesar cipher involves shifting each character in the plaintext forward by three letters, A -> D, B -> E, etc. At the end of the alphabet the cipher mapping wraps around so X -> A, Y -> B, Z -> C."
   ]
  },
  {
   "cell_type": "markdown",
   "metadata": {},
   "source": [
    "The encrypt_caesar function takes plaintext and uses the Caesar cipher scheme described above to return the encrypted text after utilizing the mapping."
   ]
  },
  {
   "cell_type": "code",
   "execution_count": 6,
   "metadata": {
    "collapsed": false
   },
   "outputs": [
    {
     "name": "stdout",
     "output_type": "stream",
     "text": [
      "{0: 'a', 1: 'b', 2: 'c', 3: 'd', 4: 'e', 5: 'f', 6: 'g', 7: 'h', 8: 'i', 9: 'j', 10: 'k', 11: 'l', 12: 'm', 13: 'n', 14: 'o', 15: 'p', 16: 'q', 17: 'r', 18: 's', 19: 't', 20: 'u', 21: 'v', 22: 'w', 23: 'x', 24: 'y', 25: 'z'}\n"
     ]
    }
   ],
   "source": [
    "index_letter = {i:letters[i] for i in range(len(letters))}\n",
    "print index_letter"
   ]
  },
  {
   "cell_type": "code",
   "execution_count": 7,
   "metadata": {
    "collapsed": false
   },
   "outputs": [
    {
     "name": "stdout",
     "output_type": "stream",
     "text": [
      "{'a': 0, 'c': 2, 'b': 1, 'e': 4, 'd': 3, 'g': 6, 'f': 5, 'i': 8, 'h': 7, 'k': 10, 'j': 9, 'm': 12, 'l': 11, 'o': 14, 'n': 13, 'q': 16, 'p': 15, 's': 18, 'r': 17, 'u': 20, 't': 19, 'w': 22, 'v': 21, 'y': 24, 'x': 23, 'z': 25}\n"
     ]
    }
   ],
   "source": [
    "letter_index = {letters[i]:i for i in range(len(letters))}\n",
    "print letter_index"
   ]
  },
  {
   "cell_type": "code",
   "execution_count": 10,
   "metadata": {
    "collapsed": true
   },
   "outputs": [],
   "source": [
    "def encrypt_caesar(plaintext):\n",
    "    encrypt_text = \"\"\n",
    "    for l in plaintext:\n",
    "        encrypt_index = (letter_index[l] + 3) % 26\n",
    "        encrypt_text += index_letter[encrypt_index]\n",
    "    return encrypt_text"
   ]
  },
  {
   "cell_type": "code",
   "execution_count": 11,
   "metadata": {
    "collapsed": false
   },
   "outputs": [
    {
     "name": "stdout",
     "output_type": "stream",
     "text": [
      "sbwkrq\n"
     ]
    }
   ],
   "source": [
    "print encrypt_caesar(\"python\")"
   ]
  },
  {
   "cell_type": "markdown",
   "metadata": {},
   "source": [
    "The decrypt_caesar function takes ciphertext and decrypts it using the mapping described above."
   ]
  },
  {
   "cell_type": "code",
   "execution_count": 15,
   "metadata": {
    "collapsed": true
   },
   "outputs": [],
   "source": [
    "def decrypt_caesar(ciphertext):\n",
    "    plaintext = \"\"\n",
    "    for l in ciphertext:\n",
    "        decrypt_index = (letter_index[l] - 3) % 26\n",
    "        plaintext += index_letter[decrypt_index] \n",
    "    return plaintext"
   ]
  },
  {
   "cell_type": "code",
   "execution_count": 16,
   "metadata": {
    "collapsed": false
   },
   "outputs": [
    {
     "name": "stdout",
     "output_type": "stream",
     "text": [
      "python\n"
     ]
    }
   ],
   "source": [
    "print decrypt_caesar(\"sbwkrq\")"
   ]
  },
  {
   "cell_type": "markdown",
   "metadata": {},
   "source": [
    "The Vigenere cipher is similar to the Caesar cipher. The difference in the Vigenere cipher is that every character in the plaintext could be shifted by a different amount. The amount of shift is determined by a keyword where \"A\" corresponds to 0 (no shift), \"B\" corresponds to a shift of 1, and \"Z\" corresponds to a shift of 25. The keyword is repeated or truncated as necessary to fit the length of the plaintext."
   ]
  },
  {
   "cell_type": "code",
   "execution_count": 19,
   "metadata": {
    "collapsed": true
   },
   "outputs": [],
   "source": [
    "def encrypt_vigenere(plaintext, keyword):\n",
    "    ciphertext = \"\"\n",
    "    keyLength = len(keyword)\n",
    "    for i in range(len(plaintext)):\n",
    "        keyIndex = i % keyLength #get appropriate index number for keyword\n",
    "        shift = letter_index[keyword[keyIndex]] #calculate the shift based on the letter above\n",
    "        encrypt_index = (letter_index[plaintext[i]] + shift) % 26 #find index of encrypted letter\n",
    "        ciphertext += index_letter[encrypt_index]\n",
    "    return ciphertext"
   ]
  },
  {
   "cell_type": "code",
   "execution_count": 18,
   "metadata": {
    "collapsed": false
   },
   "outputs": [
    {
     "name": "stdout",
     "output_type": "stream",
     "text": [
      "lxfopvefrnhr\n"
     ]
    }
   ],
   "source": [
    "print encrypt_vigenere(\"attackatdawn\", \"lemon\")"
   ]
  },
  {
   "cell_type": "code",
   "execution_count": 20,
   "metadata": {
    "collapsed": true
   },
   "outputs": [],
   "source": [
    "def decrypt_vigenere(ciphertext, keyword):\n",
    "    plaintext = \"\"\n",
    "    keyLength = len(keyword)\n",
    "    for i in range(len(ciphertext)):\n",
    "        keyIndex = i % keyLength #get appropriate index from keyword\n",
    "        shift = letter_index[keyword[keyIndex]] #calculate shift amount\n",
    "        decrypt_index = (letter_index[ciphertext[i]] - shift) % 26\n",
    "        plaintext += index_letter[decrypt_index]\n",
    "    return plaintext"
   ]
  },
  {
   "cell_type": "code",
   "execution_count": 21,
   "metadata": {
    "collapsed": false
   },
   "outputs": [
    {
     "name": "stdout",
     "output_type": "stream",
     "text": [
      "attackatdawn\n"
     ]
    }
   ],
   "source": [
    "print decrypt_vigenere(\"lxfopvefrnhr\", \"lemon\")"
   ]
  },
  {
   "cell_type": "code",
   "execution_count": null,
   "metadata": {
    "collapsed": true
   },
   "outputs": [],
   "source": []
  }
 ],
 "metadata": {
  "kernelspec": {
   "display_name": "Python 2",
   "language": "python",
   "name": "python2"
  },
  "language_info": {
   "codemirror_mode": {
    "name": "ipython",
    "version": 2
   },
   "file_extension": ".py",
   "mimetype": "text/x-python",
   "name": "python",
   "nbconvert_exporter": "python",
   "pygments_lexer": "ipython2",
   "version": "2.7.13"
  }
 },
 "nbformat": 4,
 "nbformat_minor": 0
}
