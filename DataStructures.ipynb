{
 "cells": [
  {
   "cell_type": "code",
   "execution_count": 40,
   "metadata": {
    "collapsed": true
   },
   "outputs": [],
   "source": [
    "dictionary = {}\n",
    "with open(\"words.txt\", \"rb\") as f:\n",
    "    for line in f:\n",
    "        dictionary[line.strip().lower()] = 1"
   ]
  },
  {
   "cell_type": "code",
   "execution_count": 41,
   "metadata": {
    "collapsed": false
   },
   "outputs": [
    {
     "name": "stdout",
     "output_type": "stream",
     "text": [
      "Number of words: 234371\n"
     ]
    }
   ],
   "source": [
    "print \"Number of words:\", len(dictionary)"
   ]
  },
  {
   "cell_type": "markdown",
   "metadata": {},
   "source": [
    "Triad words are English words for which the two smaller strings made by extracting alternating letters both form valid English words. Triad phrases are phrases made up of triad words."
   ]
  },
  {
   "cell_type": "code",
   "execution_count": 25,
   "metadata": {
    "collapsed": true
   },
   "outputs": [],
   "source": [
    "def is_triad(word):\n",
    "    w1 = word[0::2]\n",
    "    w2 = word[1::2]\n",
    "    return (w1 in dictionary and w2 in dictionary)"
   ]
  },
  {
   "cell_type": "markdown",
   "metadata": {},
   "source": [
    "Generate a list of all triad words in the 235,886 word list."
   ]
  },
  {
   "cell_type": "code",
   "execution_count": 42,
   "metadata": {
    "collapsed": false
   },
   "outputs": [
    {
     "name": "stdout",
     "output_type": "stream",
     "text": [
      "There are 2770 triad words in the list of words.\n"
     ]
    }
   ],
   "source": [
    "triad_words = []\n",
    "for w in dictionary:\n",
    "    if is_triad(w):\n",
    "        triad_words.append(w)\n",
    "print \"There are %d triad words in the list of words.\" %(len(triad_words))"
   ]
  },
  {
   "cell_type": "code",
   "execution_count": 28,
   "metadata": {
    "collapsed": false
   },
   "outputs": [],
   "source": [
    "from string import ascii_lowercase as lower"
   ]
  },
  {
   "cell_type": "code",
   "execution_count": 30,
   "metadata": {
    "collapsed": false
   },
   "outputs": [
    {
     "name": "stdout",
     "output_type": "stream",
     "text": [
      "{'a': 1, 'c': 3, 'b': 2, 'e': 5, 'd': 4, 'g': 7, 'f': 6, 'i': 9, 'h': 8, 'k': 11, 'j': 10, 'm': 13, 'l': 12, 'o': 15, 'n': 14, 'q': 17, 'p': 16, 's': 19, 'r': 18, 'u': 21, 't': 20, 'w': 23, 'v': 22, 'y': 25, 'x': 24, 'z': 26}\n"
     ]
    }
   ],
   "source": [
    "letter_pos = {}\n",
    "for i in range(len(lower)):\n",
    "    letter_pos[lower[i]] = i + 1\n",
    "print letter_pos"
   ]
  },
  {
   "cell_type": "markdown",
   "metadata": {},
   "source": [
    "A surpassing words is an English word for which the gap between each adjacent pair of letters strictly increases. "
   ]
  },
  {
   "cell_type": "code",
   "execution_count": 48,
   "metadata": {
    "collapsed": true
   },
   "outputs": [],
   "source": [
    "def is_surpass(word):\n",
    "    if len(word) == 1:\n",
    "        return True\n",
    "    gap = abs(letter_pos[word[1]] - letter_pos[word[0]])\n",
    "    for i in range(1, len(word) - 1, 1):\n",
    "        next_gap = abs(letter_pos[word[i + 1]] - letter_pos[word[i]])\n",
    "        if next_gap <= gap:\n",
    "            return False\n",
    "        gap = next_gap\n",
    "    return True"
   ]
  },
  {
   "cell_type": "code",
   "execution_count": 49,
   "metadata": {
    "collapsed": false
   },
   "outputs": [
    {
     "name": "stdout",
     "output_type": "stream",
     "text": [
      "Number of surpass words: 1931\n"
     ]
    }
   ],
   "source": [
    "surpass_words = []\n",
    "for w in dictionary:\n",
    "    if is_surpass(w):\n",
    "        surpass_words.append(w)\n",
    "print \"Number of surpass words:\", len(surpass_words)"
   ]
  },
  {
   "cell_type": "code",
   "execution_count": 51,
   "metadata": {
    "collapsed": false
   },
   "outputs": [],
   "source": [
    "triangle_numbers = {n*(n+1)/2:1 for n in range(1, 100, 1)}"
   ]
  },
  {
   "cell_type": "code",
   "execution_count": 56,
   "metadata": {
    "collapsed": false
   },
   "outputs": [
    {
     "name": "stdout",
     "output_type": "stream",
     "text": [
      "Number of triangle words: 16303\n"
     ]
    }
   ],
   "source": [
    "triangle_words = []\n",
    "for w in dictionary:\n",
    "    char_sum = sum([ord(ch) - 96 for ch in w])\n",
    "    if char_sum in triangle_numbers:\n",
    "        triangle_words.append(w)\n",
    "print \"Number of triangle words:\", len(triangle_words)"
   ]
  },
  {
   "cell_type": "code",
   "execution_count": null,
   "metadata": {
    "collapsed": false
   },
   "outputs": [],
   "source": []
  },
  {
   "cell_type": "code",
   "execution_count": null,
   "metadata": {
    "collapsed": true
   },
   "outputs": [],
   "source": []
  }
 ],
 "metadata": {
  "kernelspec": {
   "display_name": "Python 2",
   "language": "python",
   "name": "python2"
  },
  "language_info": {
   "codemirror_mode": {
    "name": "ipython",
    "version": 2
   },
   "file_extension": ".py",
   "mimetype": "text/x-python",
   "name": "python",
   "nbconvert_exporter": "python",
   "pygments_lexer": "ipython2",
   "version": "2.7.13"
  }
 },
 "nbformat": 4,
 "nbformat_minor": 0
}
