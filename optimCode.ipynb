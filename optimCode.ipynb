{
 "cells": [
  {
   "cell_type": "code",
   "execution_count": 1,
   "metadata": {
    "collapsed": true
   },
   "outputs": [],
   "source": [
    "import numpy as np"
   ]
  },
  {
   "cell_type": "code",
   "execution_count": null,
   "metadata": {
    "collapsed": true
   },
   "outputs": [],
   "source": [
    "Calculate the accessible-surface area of atoms.\n",
    "Uses the simple Shrake-Rupley algorithm, that generates a\n",
    "relatively uniform density of dots over every atoms and\n",
    "eliminates those within the sphere of another atom. The remaining\n",
    "dots is used to calculate the area.\n",
    "Reference: A. Shrake & J. A. Rupley. \"Environment and Exposure to\n",
    "Solvent of Protein Atoms. Lysozyme and Insulin.\" J Mol Biol. 79\n",
    "(1973) 351- 371. \n",
    "\n",
    "import math\n",
    "\n",
    "import v3\n",
    "import pdbatoms\n",
    "from collections import defaultdict\n",
    "\n",
    "\n",
    "def generate_sphere_points(n):\n",
    "  \"\"\"\n",
    "  Returns list of coordinates on a sphere using the Golden-\n",
    "  Section Spiral algorithm.\n",
    "  \"\"\"\n",
    "  points = []\n",
    "  inc = math.pi * (3 - math.sqrt(5))\n",
    "  offset = 2 / float(n)\n",
    "  for k in range(int(n)):\n",
    "    y = k * offset - 1 + (offset / 2)\n",
    "    r = math.sqrt(1 - y*y)\n",
    "    phi = k * inc\n",
    "    points.append(v3.vector(math.cos(phi)*r, y, math.sin(phi)*r))\n",
    "  return points\n",
    "\n",
    "\n",
    "def find_neighbor_indices(atoms, probe, k):\n",
    "  \"\"\"\n",
    "  Returns list of indices of atoms within probe distance to atom k. \n",
    "  \"\"\"\n",
    "  neighbor_indices = []\n",
    "  atom_k = atoms[k]\n",
    "  radius = atom_k.radius + probe + probe\n",
    "  indices = range(k)\n",
    "  indices.extend(range(k+1, len(atoms)))\n",
    "  for i in indices:\n",
    "    atom_i = atoms[i]\n",
    "    dist = v3.distance(atom_k.pos, atom_i.pos)\n",
    "    if dist < radius + atom_i.radius:\n",
    "      neighbor_indices.append(i)\n",
    "  return neighbor_indices\n",
    "\n",
    "\n",
    "def calculate_asa(atoms, probe, n_sphere_point=960):\n",
    "  \"\"\"\n",
    "  Returns the accessible-surface areas of the atoms, by rolling a\n",
    "  ball with probe radius over the atoms with their radius\n",
    "  defined.\n",
    "  \"\"\"\n",
    "  sphere_points = generate_sphere_points(n_sphere_point)\n",
    " \n",
    "  const = 4.0 * math.pi / len(sphere_points)\n",
    "  areas = []\n",
    "  for i, atom_i in enumerate(atoms):\n",
    "    \n",
    "    neighbor_indices = find_neighbor_indices(atoms, probe, i)\n",
    "    n_neighbor = len(neighbor_indices)\n",
    "    j_closest_neighbor = 0\n",
    "    radius = probe + atom_i.radius\n",
    "    \n",
    "    n_accessible_point = 0\n",
    "    for point in sphere_points:\n",
    "      is_accessible = True\n",
    "      test_point = v3.scale(point, radius) + atom_i.pos\n",
    "      cycled_indices = range(j_closest_neighbor, n_neighbor)\n",
    "      cycled_indices.extend(range(j_closest_neighbor))\n",
    "      \n",
    "      for j in cycled_indices:\n",
    "        atom_j = atoms[neighbor_indices[j]]\n",
    "        r = atom_j.radius + probe\n",
    "        diff = v3.distance(atom_j.pos, test_point)\n",
    "        if diff*diff < r*r:\n",
    "          j_closest_neighbor = j\n",
    "          is_accessible = False\n",
    "          break\n",
    "      if is_accessible:\n",
    "        n_accessible_point += 1\n",
    "    \n",
    "    area = const*n_accessible_point*radius*radius \n",
    "    areas.append(area)\n",
    "\n",
    "  return areas\n",
    "\n",
    "\n",
    "def make_boxes(a, d_max):\n",
    "    '''\n",
    "    Returns dictionary which keys are indecies of boxes (regions)\n",
    "    with d_max length side and values\n",
    "    are indicies of atoms belonging to these boxes\n",
    "    '''\n",
    "    b = defaultdict(list) # space divided into boxes\n",
    "    for i in xrange(len(a)):\n",
    "        atom = a[i]\n",
    "        box_coor = tuple(int(math.floor(x / d_max)) for x in atom.pos)\n",
    "        b[box_coor].append(i)\n",
    "    return b\n",
    "\n",
    "\n",
    "def add_bond(a, a1, a2, conn, d_max):\n",
    "    '''\n",
    "    If distance between atoms a1 and a2 is less than d_max (neighboring atoms),\n",
    "    add atoms a1 and a2 in adjacency list conn to each other\n",
    "    '''\n",
    "    atom1 = a[a1]\n",
    "    atom2 = a[a2]\n",
    "    if v3.mag2(atom1.pos - atom2.pos) <= d_max * d_max:  # connected\n",
    "        conn[a1].append(a2)\n",
    "        conn[a2].append(a1)\n",
    "\n",
    "\n",
    "def neighbor_atoms(b, box):\n",
    "    '''\n",
    "    Returns list of atoms from half of neighbouring boxes of the box\n",
    "    another half is accounted when symmetric (opposite) boxes considered\n",
    "    '''\n",
    "    na = [] # list for neighboring atoms\n",
    "    x, y, z = box # coordinates of the box\n",
    "    # top layer consisting of 9 boxes\n",
    "    if (x + 1, y + 1, z +1) in b: na.extend(b[(x + 1, y + 1, z +1)])\n",
    "    if (x, y + 1, z +1) in b: na.extend(b[(x, y + 1, z +1)])\n",
    "    if (x + 1, y, z +1) in b: na.extend(b[(x + 1, y, z +1)])\n",
    "    if (x, y, z +1) in b: na.extend(b[(x, y, z +1)])\n",
    "    if (x - 1, y + 1, z +1) in b: na.extend(b[(x - 1, y + 1, z +1)])\n",
    "    if (x + 1, y - 1, z +1) in b: na.extend(b[(x + 1, y - 1, z +1)])\n",
    "    if (x, y - 1, z +1) in b: na.extend(b[(x, y - 1, z +1)])\n",
    "    if (x - 1, y, z +1) in b: na.extend(b[(x - 1, y, z +1)])\n",
    "    if (x - 1, y - 1, z +1) in b: na.extend(b[(x - 1, y - 1, z +1)])\n",
    "    # half of the middle layer excluding the box itself (4 boxes)\n",
    "    if (x + 1, y + 1, z) in b: na.extend(b[(x + 1, y + 1, z)])\n",
    "    if (x, y + 1, z) in b: na.extend(b[(x, y + 1, z)])\n",
    "    if (x + 1, y, z) in b: na.extend(b[(x + 1, y, z)])\n",
    "    if (x + 1, y - 1, z) in b: na.extend(b[(x + 1, y - 1, z)])\n",
    "    return na\n",
    "\n",
    "\n",
    "def adjacency_list(a, d_max):\n",
    "    '''\n",
    "    Returns adjacency list from coordinate file\n",
    "    in O(len(a)) time\n",
    "    '''\n",
    "    b = make_boxes(a, d_max) # put atoms into the boxes with dmax length side\n",
    "    # now go on boxes and check connections inside 3x3 superboxes\n",
    "    conn = [[] for i in xrange(len(a))] # list of bond lengths each atom implicated\n",
    "    for box in b:\n",
    "        lb = len(b[box])\n",
    "        for i in range(lb):\n",
    "            a1 = b[box][i]\n",
    "            # check possible connections inside the box\n",
    "            for j in range(i+1, lb):\n",
    "                a2 = b[box][j]\n",
    "                add_bond(a, a1, a2, conn, d_max)\n",
    "            # check connections with atoms from neighbouring boxes\n",
    "            na = neighbor_atoms(b, box) # list of such atoms\n",
    "            for a2 in na:\n",
    "                add_bond(a, a1, a2, conn, d_max)\n",
    "    return conn\n",
    "\n",
    "\n",
    "def find_neighbor_indices_modified(atoms, indices, probe, k):\n",
    "  \"\"\"\n",
    "  Returns list of indices of atoms within probe distance to atom k. \n",
    "  \"\"\"\n",
    "  neighbor_indices = []\n",
    "  atom_k = atoms[k]\n",
    "  radius = atom_k.radius + probe + probe\n",
    "  for i in indices:\n",
    "    if i == k: continue\n",
    "    atom_i = atoms[i]\n",
    "    dist2 = v3.mag2(atom_k.pos - atom_i.pos) # ToAn\n",
    "    if dist2 < (radius + atom_i.radius) ** 2: # ToAn\n",
    "      neighbor_indices.append(i)\n",
    "  return neighbor_indices\n",
    "\n",
    "\n",
    "def calculate_asa_optimized(atoms, probe, n_sphere_point=960):\n",
    "  \"\"\"\n",
    "  Returns the accessible-surface areas of the atoms, by rolling a\n",
    "  ball with probe radius over the atoms with their radius\n",
    "  defined.\n",
    "  \"\"\"\n",
    "  sphere_points = generate_sphere_points(n_sphere_point)\n",
    " \n",
    "  const = 4.0 * math.pi / len(sphere_points)\n",
    "  areas = []\n",
    "  neighbor_list = adjacency_list(atoms, 2 * (probe + max(atoms, key=lambda p: p.radius).radius))\n",
    "  for i, atom_i in enumerate(atoms):\n",
    "    \n",
    "    neighbor_indices = [neig for neig in neighbor_list[i]]\n",
    "    neighbor_indices = find_neighbor_indices_modified(atoms, neighbor_indices, probe, i) # even further narrow diapazon\n",
    "    n_neighbor = len(neighbor_indices)\n",
    "    j_closest_neighbor = 0\n",
    "    radius = probe + atom_i.radius\n",
    "    \n",
    "    n_accessible_point = 0\n",
    "    for point in sphere_points:\n",
    "      is_accessible = True\n",
    "      test_point = v3.scale(point, radius) + atom_i.pos\n",
    "      cycled_indices = range(j_closest_neighbor, n_neighbor)\n",
    "      cycled_indices.extend(range(j_closest_neighbor))\n",
    "      \n",
    "      for j in cycled_indices:\n",
    "        atom_j = atoms[neighbor_indices[j]]\n",
    "        r = atom_j.radius + probe\n",
    "        diff2 = v3.mag2(atom_j.pos - test_point)\n",
    "        if diff2 < r*r:\n",
    "          j_closest_neighbor = j\n",
    "          is_accessible = False\n",
    "          break\n",
    "      if is_accessible:\n",
    "        n_accessible_point += 1\n",
    "    \n",
    "    area = const*n_accessible_point*radius*radius \n",
    "    areas.append(area)\n",
    "\n",
    "  return areas"
   ]
  },
  {
   "cell_type": "code",
   "execution_count": 2,
   "metadata": {
    "collapsed": true
   },
   "outputs": [],
   "source": [
    "import math"
   ]
  },
  {
   "cell_type": "code",
   "execution_count": 3,
   "metadata": {
    "collapsed": false
   },
   "outputs": [
    {
     "name": "stdout",
     "output_type": "stream",
     "text": [
      "The slowest run took 32.81 times longer than the fastest. This could mean that an intermediate result is being cached.\n",
      "10000000 loops, best of 3: 153 ns per loop\n"
     ]
    }
   ],
   "source": [
    "%timeit math.sqrt(10000)"
   ]
  },
  {
   "cell_type": "code",
   "execution_count": 4,
   "metadata": {
    "collapsed": true
   },
   "outputs": [],
   "source": [
    "import random"
   ]
  },
  {
   "cell_type": "code",
   "execution_count": 5,
   "metadata": {
    "collapsed": true
   },
   "outputs": [],
   "source": [
    "s = 100000\n",
    "x_py = [random.random() for i in xrange(s)]\n",
    "x_np = np.random.rand(1, s)"
   ]
  },
  {
   "cell_type": "code",
   "execution_count": 6,
   "metadata": {
    "collapsed": true
   },
   "outputs": [],
   "source": [
    "def slow(x):\n",
    "    output = [0] * len(x)\n",
    "    for i, num in enumerate(x):\n",
    "        output[i] = num * 5.2 + num**2 + math.cos(num)\n",
    "    return output"
   ]
  },
  {
   "cell_type": "code",
   "execution_count": 7,
   "metadata": {
    "collapsed": true
   },
   "outputs": [],
   "source": [
    "def fast(x):\n",
    "    return 5.2*x + x*x + np.cos(x)"
   ]
  },
  {
   "cell_type": "code",
   "execution_count": 8,
   "metadata": {
    "collapsed": false
   },
   "outputs": [
    {
     "name": "stdout",
     "output_type": "stream",
     "text": [
      "10 loops, best of 3: 55.8 ms per loop\n"
     ]
    }
   ],
   "source": [
    "%timeit slow(x_py)"
   ]
  },
  {
   "cell_type": "code",
   "execution_count": 10,
   "metadata": {
    "collapsed": false
   },
   "outputs": [
    {
     "name": "stdout",
     "output_type": "stream",
     "text": [
      "100 loops, best of 3: 1.98 ms per loop\n"
     ]
    }
   ],
   "source": [
    "%timeit fast(x_np)"
   ]
  },
  {
   "cell_type": "code",
   "execution_count": null,
   "metadata": {
    "collapsed": true
   },
   "outputs": [],
   "source": []
  }
 ],
 "metadata": {
  "kernelspec": {
   "display_name": "Python 2",
   "language": "python",
   "name": "python2"
  },
  "language_info": {
   "codemirror_mode": {
    "name": "ipython",
    "version": 2
   },
   "file_extension": ".py",
   "mimetype": "text/x-python",
   "name": "python",
   "nbconvert_exporter": "python",
   "pygments_lexer": "ipython2",
   "version": "2.7.13"
  }
 },
 "nbformat": 4,
 "nbformat_minor": 0
}
